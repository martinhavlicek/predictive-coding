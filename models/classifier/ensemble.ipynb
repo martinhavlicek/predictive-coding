{
 "cells": [
  {
   "cell_type": "code",
   "execution_count": 2,
   "metadata": {},
   "outputs": [
    {
     "name": "stderr",
     "output_type": "stream",
     "text": [
      "Using TensorFlow backend.\n"
     ]
    }
   ],
   "source": [
    "import cPickle as pkl\n",
    "import os\n",
    "import numpy as np\n",
    "from keras.metrics import categorical_accuracy\n",
    "from keras import backend as K"
   ]
  },
  {
   "cell_type": "code",
   "execution_count": 3,
   "metadata": {},
   "outputs": [],
   "source": [
    "audio_dir = './results/lstm__prednet_random_finetuned_moments_audio_full__ucf_01__full'\n",
    "video_dir = './results/lstm__prednet_kitti_finetuned_moments_full__ucf_01__full'\n",
    "\n",
    "with open(os.path.join(audio_dir, 'predictions.pkl'), 'r') as f:\n",
    "    audio_data = pkl.load(f)\n",
    "    \n",
    "with open(os.path.join(video_dir, 'predictions.pkl'), 'r') as f:\n",
    "    video_data = pkl.load(f)\n",
    "    \n",
    "video_preds = dict(zip(video_data['sources'], video_data['y_pred']))\n",
    "audio_preds = dict(zip(audio_data['sources'], audio_data['y_pred']))"
   ]
  },
  {
   "cell_type": "code",
   "execution_count": 4,
   "metadata": {},
   "outputs": [
    {
     "data": {
      "text/plain": [
       "(1944, 3783)"
      ]
     },
     "execution_count": 4,
     "metadata": {},
     "output_type": "execute_result"
    }
   ],
   "source": [
    "len(audio_data['sources']), len(video_data['sources']) "
   ]
  },
  {
   "cell_type": "code",
   "execution_count": 5,
   "metadata": {},
   "outputs": [
    {
     "data": {
      "text/plain": [
       "(51, 101)"
      ]
     },
     "execution_count": 5,
     "metadata": {},
     "output_type": "execute_result"
    }
   ],
   "source": [
    "audio_classes = sorted(set([c.split('/')[0] for c in audio_data['sources']]))\n",
    "video_classes = sorted(set([c.split('/')[0] for c in video_data['sources']]))\n",
    "len(audio_classes), len(video_classes)"
   ]
  },
  {
   "cell_type": "code",
   "execution_count": 14,
   "metadata": {},
   "outputs": [],
   "source": [
    "from scipy.stats import entropy\n",
    "\n",
    "def softmax(x):\n",
    "    \"\"\"Compute softmax values for each sets of scores in x.\"\"\"\n",
    "    e_x = np.exp(x - np.max(x))\n",
    "    return e_x / e_x.sum(axis=0)\n",
    "\n",
    "ensemble_preds = []\n",
    "\n",
    "for s, video_pred in zip(video_data['sources'], video_data['y_pred']):\n",
    "    ensemble_pred = video_pred.copy()\n",
    "    \n",
    "    if s in audio_data['sources']:\n",
    "        \n",
    "        for i, c in enumerate(video_classes):\n",
    "            if c in audio_classes:\n",
    "                class_index = audio_classes.index(c)\n",
    "                ensemble_pred[i] = (2. * ensemble_pred[i] + audio_preds[s][class_index]) / 3.\n",
    "    ensemble_preds.append(ensemble_pred)\n",
    "    \n",
    "ensemble_preds = np.array(ensemble_preds)"
   ]
  },
  {
   "cell_type": "code",
   "execution_count": 15,
   "metadata": {},
   "outputs": [
    {
     "data": {
      "text/plain": [
       "(0.519429, 0.52418715)"
      ]
     },
     "execution_count": 15,
     "metadata": {},
     "output_type": "execute_result"
    }
   ],
   "source": [
    "acc = categorical_accuracy(video_data['y_true'], video_data['y_pred'])\n",
    "acc_ens = categorical_accuracy(video_data['y_true'], ensemble_preds)\n",
    "K.eval(K.mean(acc)), K.eval(K.mean(acc_ens))"
   ]
  },
  {
   "cell_type": "code",
   "execution_count": 16,
   "metadata": {},
   "outputs": [],
   "source": [
    "ensemble_audio = []\n",
    "video_preds_small = []\n",
    "\n",
    "for s, audio_pred in zip(audio_data['sources'], audio_data['y_pred']):\n",
    "    ensemble_pred = audio_pred.copy()\n",
    "    \n",
    "    for i, c in enumerate(audio_classes):\n",
    "        class_index = video_classes.index(c)\n",
    "        ensemble_pred[i] = (ensemble_pred[i] + 2. * video_preds[s][class_index]) / 3.\n",
    "        \n",
    "    ensemble_audio.append(ensemble_pred)\n",
    "    video_preds_small.append(video_preds[s])\n",
    "    \n",
    "ensemble_audio = np.array(ensemble_audio)\n",
    "video_preds_small = np.array(video_preds_small)"
   ]
  },
  {
   "cell_type": "code",
   "execution_count": 17,
   "metadata": {},
   "outputs": [
    {
     "data": {
      "text/plain": [
       "(0.24845679, 0.5653292, 0.057613168)"
      ]
     },
     "execution_count": 17,
     "metadata": {},
     "output_type": "execute_result"
    }
   ],
   "source": [
    "acc = categorical_accuracy(audio_data['y_true'], audio_data['y_pred'])\n",
    "acc_ens = categorical_accuracy(audio_data['y_true'], ensemble_audio)\n",
    "acc_video = categorical_accuracy(audio_data['y_true'], video_preds_small)\n",
    "K.eval(K.mean(acc)), K.eval(K.mean(acc_ens)), K.eval(K.mean(acc_video))"
   ]
  }
 ],
 "metadata": {
  "kernelspec": {
   "display_name": "Python [conda env:prednet]",
   "language": "python",
   "name": "conda-env-prednet-py"
  },
  "language_info": {
   "codemirror_mode": {
    "name": "ipython",
    "version": 2
   },
   "file_extension": ".py",
   "mimetype": "text/x-python",
   "name": "python",
   "nbconvert_exporter": "python",
   "pygments_lexer": "ipython2",
   "version": "2.7.15"
  }
 },
 "nbformat": 4,
 "nbformat_minor": 2
}
